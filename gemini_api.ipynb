{
  "nbformat": 4,
  "nbformat_minor": 0,
  "metadata": {
    "colab": {
      "provenance": [],
      "gpuType": "T4"
    },
    "kernelspec": {
      "name": "python3",
      "display_name": "Python 3"
    },
    "language_info": {
      "name": "python"
    },
    "accelerator": "GPU"
  },
  "cells": [
    {
      "cell_type": "code",
      "execution_count": null,
      "metadata": {
        "id": "hHn7MNpSeSOp"
      },
      "outputs": [],
      "source": [
        "pip install -U google-generativeai"
      ]
    },
    {
      "cell_type": "markdown",
      "source": [
        "https://aistudio.google.com/app/apikey\n",
        "\n",
        "https://pypi.org/project/google-generativeai/"
      ],
      "metadata": {
        "id": "MEdU9Z71g48u"
      }
    },
    {
      "cell_type": "code",
      "source": [
        "import google.generativeai as genai\n",
        "import os\n",
        "GEMINI_API_KEY= \"\"\n",
        "genai.configure(api_key=GEMINI_API_KEY)"
      ],
      "metadata": {
        "id": "Hz3ovnPfeaBT"
      },
      "execution_count": null,
      "outputs": []
    },
    {
      "cell_type": "code",
      "source": [
        "model = genai.GenerativeModel('gemini-1.5-flash')\n",
        "response = model.generate_content(\"Write a poem on stone age\")\n",
        "print(response.text)"
      ],
      "metadata": {
        "id": "hHRGopJveaLe"
      },
      "execution_count": null,
      "outputs": []
    }
  ]
}