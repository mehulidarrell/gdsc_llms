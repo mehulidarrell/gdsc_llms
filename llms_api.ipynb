{
  "nbformat": 4,
  "nbformat_minor": 0,
  "metadata": {
    "colab": {
      "provenance": [],
      "gpuType": "T4"
    },
    "kernelspec": {
      "name": "python3",
      "display_name": "Python 3"
    },
    "language_info": {
      "name": "python"
    },
    "accelerator": "GPU"
  },
  "cells": [
    {
      "cell_type": "code",
      "source": [
        "!pip install huggingface_hub"
      ],
      "metadata": {
        "id": "4JAuRFqZMII2"
      },
      "execution_count": null,
      "outputs": []
    },
    {
      "cell_type": "markdown",
      "source": [
        "https://huggingface.co/microsoft/Phi-3.5-mini-instruct"
      ],
      "metadata": {
        "id": "X81jKy15axt7"
      }
    },
    {
      "cell_type": "code",
      "source": [
        "from huggingface_hub import InferenceClient\n",
        "\n",
        "client = InferenceClient(api_key=\"\")\n",
        "\n",
        "for message in client.chat_completion(\n",
        "\tmodel=\"microsoft/Phi-3.5-mini-instruct\",\n",
        "\tmessages=[{\"role\": \"user\", \"content\": \"write me a poem abt stone age\"}],\n",
        "\tmax_tokens=500,\n",
        "\tstream=True,\n",
        "):\n",
        "    print(message.choices[0].delta.content, end=\"\")"
      ],
      "metadata": {
        "id": "T8-Q4-jZZENL"
      },
      "execution_count": null,
      "outputs": []
    },
    {
      "cell_type": "code",
      "source": [],
      "metadata": {
        "id": "oVGTCwKdazz9"
      },
      "execution_count": null,
      "outputs": []
    }
  ]
}
